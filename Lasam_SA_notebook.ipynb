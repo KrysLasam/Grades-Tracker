{
  "nbformat": 4,
  "nbformat_minor": 0,
  "metadata": {
    "colab": {
      "provenance": [],
      "authorship_tag": "ABX9TyOHLyp1Ljh0Xdq7Qd5g4VbI",
      "include_colab_link": true
    },
    "kernelspec": {
      "name": "python3",
      "display_name": "Python 3"
    },
    "language_info": {
      "name": "python"
    }
  },
  "cells": [
    {
      "cell_type": "markdown",
      "metadata": {
        "id": "view-in-github",
        "colab_type": "text"
      },
      "source": [
        "<a href=\"https://colab.research.google.com/github/KrysLasam/Grades-Tracker/blob/main/Lasam_SA_notebook.ipynb\" target=\"_parent\"><img src=\"https://colab.research.google.com/assets/colab-badge.svg\" alt=\"Open In Colab\"/></a>"
      ]
    },
    {
      "cell_type": "markdown",
      "source": [
        "## **Data Visualization**"
      ],
      "metadata": {
        "id": "nwBCsadiM3-A"
      }
    },
    {
      "cell_type": "markdown",
      "source": [
        "- Importing important packages and mounting the Google Drive to access the dataset\n",
        "- Getting the data about the dataset"
      ],
      "metadata": {
        "id": "Mu_qo5u6VEWj"
      }
    },
    {
      "cell_type": "code",
      "execution_count": null,
      "metadata": {
        "id": "cvAS_bMWYV9h"
      },
      "outputs": [],
      "source": [
        "import pandas as pd\n",
        "from google.colab import drive\n",
        "import matplotlib.pyplot as plt\n",
        "%matplotlib inline"
      ]
    },
    {
      "cell_type": "code",
      "source": [
        "drive.mount('/content/drive')\n",
        "dir_name = '/content/drive/MyDrive/Colab Notebooks/'"
      ],
      "metadata": {
        "colab": {
          "base_uri": "https://localhost:8080/"
        },
        "id": "YO6HpUVNSbUx",
        "outputId": "54865be9-37f6-403d-b340-3f7292b72b67"
      },
      "execution_count": null,
      "outputs": [
        {
          "output_type": "stream",
          "name": "stdout",
          "text": [
            "Mounted at /content/drive\n"
          ]
        }
      ]
    },
    {
      "cell_type": "code",
      "source": [
        "dataset = pd.read_csv(dir_name+'Lasam_SA_dataset.csv')\n",
        "dataset"
      ],
      "metadata": {
        "colab": {
          "base_uri": "https://localhost:8080/",
          "height": 1000
        },
        "id": "x0rLsaqvNJbg",
        "outputId": "605873f1-0f82-40ff-d805-f1822d548a08"
      },
      "execution_count": null,
      "outputs": [
        {
          "output_type": "execute_result",
          "data": {
            "text/plain": [
              "   class_code  subj_no                                          subj_desc  \\\n",
              "0    ASF 1101  16-5100                          ARRUPE SOCIAL FORMATION 1   \n",
              "1    ASF 1102  16-6002  NATIONAL SERVICE TRAINING PROGRAM - CIVIC WELF...   \n",
              "2    DSC 1130    4-301                          INTRODUCTION TO COMPUTING   \n",
              "3    DSC 1131    4-501                             COMPUTER PROGRAMMING 1   \n",
              "4     GE 1105   16-160                             UNDERSTANDING THE SELF   \n",
              "5     GE 1106   16-502                            PURPOSIVE COMMUNICATION   \n",
              "6     GE 1108   16-216                    MATHEMATICS IN THE MODERN WORLD   \n",
              "7     PE 1114   16-336                                         PATH-FIT I   \n",
              "8    ASF 1203  16-6002  NATIONAL SERVICE TRAINING PROGRAM - CIVIC WELF...   \n",
              "9    DSC 1232    4-501                              DISCRETE STRUCTURES 1   \n",
              "10   DSC 1233    4-502                             COMPUTER PROGRAMMING 2   \n",
              "11    GE 1210   16-641                     READINGS IN PHILIPPINE HISTORY   \n",
              "12    GE 1211   16-656                             THE CONTEMPORARY WORLD   \n",
              "13    GE 1212   16-689                    SCIENCE, TECHNOLOGY AND SOCIETY   \n",
              "14  MATH 2171    4-503                              DIFFERENTIAL CALCULUS   \n",
              "15    PE 1215   16-870                                        PATH-FIT II   \n",
              "16   DSC 2134    4-502               INFORMATION MANAGEMENT AND DATABASES   \n",
              "17   DSC 2135    4-503                        OBJECT ORIENTED PROGRAMMING   \n",
              "18    GE 1107   16-208                                   ART APPRECIATION   \n",
              "19    GE 1109   16-530                                             ETHICS   \n",
              "20    GE 3118   16-681                  ELECTIVE 1: VIRTUAL COMMUNICATION   \n",
              "21  MATH 2138    4-504                                     LINEAR ALGEBRA   \n",
              "22  MATH 2272    4-505                                  INTEGRAL CALCULUS   \n",
              "23    PE 2116   16-620                           PATH-FIT III: VOLLEYBALL   \n",
              "24   DSC 2236    4-501                                      LINEAR MODELS   \n",
              "25   DSC 2237    4-505                              BUSINESS INTELLIGENCE   \n",
              "26   DSC 2238    4-506                          DATA SCIENCE FUNDAMENTALS   \n",
              "27   DSC 2239    4-507                     DATA STRUCTURES AND ALGORITHMS   \n",
              "28   DSC 2240    4-504                              PHYSICS FOR COMPUTING   \n",
              "29    GE 1213   16-033                            LIFE AND WORKS OF RIZAL   \n",
              "30    GE 3219   16-037                 ELECTIVE 2: PHILIPPINE POP CULTURE   \n",
              "31  MATH 3274    4-508                         PROBABILITY AND STATISTICS   \n",
              "32    PE 2217   16-827                             PATH-FIT IV: BADMINTON   \n",
              "\n",
              "    units final   qpi      year_sem  \n",
              "0     2.0     A  3.91  1styr_1stsem  \n",
              "1     3.0    B+  3.91  1styr_1stsem  \n",
              "2     3.0     A  3.91  1styr_1stsem  \n",
              "3     3.0     A  3.91  1styr_1stsem  \n",
              "4     3.0     A  3.91  1styr_1stsem  \n",
              "5     3.0     A  3.91  1styr_1stsem  \n",
              "6     3.0    B+  3.91  1styr_1stsem  \n",
              "7     2.0     A  3.91  1styr_1stsem  \n",
              "8     3.0    B+  3.68  1styr_2ndsem  \n",
              "9     3.0     B  3.68  1styr_2ndsem  \n",
              "10    3.0     A  3.68  1styr_2ndsem  \n",
              "11    3.0    B+  3.68  1styr_2ndsem  \n",
              "12    3.0     A  3.68  1styr_2ndsem  \n",
              "13    3.0     A  3.68  1styr_2ndsem  \n",
              "14    5.0    B+  3.68  1styr_2ndsem  \n",
              "15    2.0     A  3.68  1styr_2ndsem  \n",
              "16    3.0     A  3.70  2ndyr_1stsem  \n",
              "17    3.0     A  3.70  2ndyr_1stsem  \n",
              "18    3.0     A  3.70  2ndyr_1stsem  \n",
              "19    3.0     A  3.70  2ndyr_1stsem  \n",
              "20    3.0     A  3.70  2ndyr_1stsem  \n",
              "21    3.0     A  3.70  2ndyr_1stsem  \n",
              "22    5.0    C+  3.70  2ndyr_1stsem  \n",
              "23    2.0     A  3.70  2ndyr_1stsem  \n",
              "24    3.0     A  3.84  2ndyr_2ndsem  \n",
              "25    3.0    B+  3.84  2ndyr_2ndsem  \n",
              "26    3.0     B  3.84  2ndyr_2ndsem  \n",
              "27    3.0     A  3.84  2ndyr_2ndsem  \n",
              "28    5.0     A  3.84  2ndyr_2ndsem  \n",
              "29    3.0     A  3.84  2ndyr_2ndsem  \n",
              "30    3.0     A  3.84  2ndyr_2ndsem  \n",
              "31    3.0     A  3.84  2ndyr_2ndsem  \n",
              "32    2.0     A  3.84  2ndyr_2ndsem  "
            ],
            "text/html": [
              "\n",
              "  <div id=\"df-5cd9a2b9-5b12-4d74-98e0-f391631f7a10\">\n",
              "    <div class=\"colab-df-container\">\n",
              "      <div>\n",
              "<style scoped>\n",
              "    .dataframe tbody tr th:only-of-type {\n",
              "        vertical-align: middle;\n",
              "    }\n",
              "\n",
              "    .dataframe tbody tr th {\n",
              "        vertical-align: top;\n",
              "    }\n",
              "\n",
              "    .dataframe thead th {\n",
              "        text-align: right;\n",
              "    }\n",
              "</style>\n",
              "<table border=\"1\" class=\"dataframe\">\n",
              "  <thead>\n",
              "    <tr style=\"text-align: right;\">\n",
              "      <th></th>\n",
              "      <th>class_code</th>\n",
              "      <th>subj_no</th>\n",
              "      <th>subj_desc</th>\n",
              "      <th>units</th>\n",
              "      <th>final</th>\n",
              "      <th>qpi</th>\n",
              "      <th>year_sem</th>\n",
              "    </tr>\n",
              "  </thead>\n",
              "  <tbody>\n",
              "    <tr>\n",
              "      <th>0</th>\n",
              "      <td>ASF 1101</td>\n",
              "      <td>16-5100</td>\n",
              "      <td>ARRUPE SOCIAL FORMATION 1</td>\n",
              "      <td>2.0</td>\n",
              "      <td>A</td>\n",
              "      <td>3.91</td>\n",
              "      <td>1styr_1stsem</td>\n",
              "    </tr>\n",
              "    <tr>\n",
              "      <th>1</th>\n",
              "      <td>ASF 1102</td>\n",
              "      <td>16-6002</td>\n",
              "      <td>NATIONAL SERVICE TRAINING PROGRAM - CIVIC WELF...</td>\n",
              "      <td>3.0</td>\n",
              "      <td>B+</td>\n",
              "      <td>3.91</td>\n",
              "      <td>1styr_1stsem</td>\n",
              "    </tr>\n",
              "    <tr>\n",
              "      <th>2</th>\n",
              "      <td>DSC 1130</td>\n",
              "      <td>4-301</td>\n",
              "      <td>INTRODUCTION TO COMPUTING</td>\n",
              "      <td>3.0</td>\n",
              "      <td>A</td>\n",
              "      <td>3.91</td>\n",
              "      <td>1styr_1stsem</td>\n",
              "    </tr>\n",
              "    <tr>\n",
              "      <th>3</th>\n",
              "      <td>DSC 1131</td>\n",
              "      <td>4-501</td>\n",
              "      <td>COMPUTER PROGRAMMING 1</td>\n",
              "      <td>3.0</td>\n",
              "      <td>A</td>\n",
              "      <td>3.91</td>\n",
              "      <td>1styr_1stsem</td>\n",
              "    </tr>\n",
              "    <tr>\n",
              "      <th>4</th>\n",
              "      <td>GE 1105</td>\n",
              "      <td>16-160</td>\n",
              "      <td>UNDERSTANDING THE SELF</td>\n",
              "      <td>3.0</td>\n",
              "      <td>A</td>\n",
              "      <td>3.91</td>\n",
              "      <td>1styr_1stsem</td>\n",
              "    </tr>\n",
              "    <tr>\n",
              "      <th>5</th>\n",
              "      <td>GE 1106</td>\n",
              "      <td>16-502</td>\n",
              "      <td>PURPOSIVE COMMUNICATION</td>\n",
              "      <td>3.0</td>\n",
              "      <td>A</td>\n",
              "      <td>3.91</td>\n",
              "      <td>1styr_1stsem</td>\n",
              "    </tr>\n",
              "    <tr>\n",
              "      <th>6</th>\n",
              "      <td>GE 1108</td>\n",
              "      <td>16-216</td>\n",
              "      <td>MATHEMATICS IN THE MODERN WORLD</td>\n",
              "      <td>3.0</td>\n",
              "      <td>B+</td>\n",
              "      <td>3.91</td>\n",
              "      <td>1styr_1stsem</td>\n",
              "    </tr>\n",
              "    <tr>\n",
              "      <th>7</th>\n",
              "      <td>PE 1114</td>\n",
              "      <td>16-336</td>\n",
              "      <td>PATH-FIT I</td>\n",
              "      <td>2.0</td>\n",
              "      <td>A</td>\n",
              "      <td>3.91</td>\n",
              "      <td>1styr_1stsem</td>\n",
              "    </tr>\n",
              "    <tr>\n",
              "      <th>8</th>\n",
              "      <td>ASF 1203</td>\n",
              "      <td>16-6002</td>\n",
              "      <td>NATIONAL SERVICE TRAINING PROGRAM - CIVIC WELF...</td>\n",
              "      <td>3.0</td>\n",
              "      <td>B+</td>\n",
              "      <td>3.68</td>\n",
              "      <td>1styr_2ndsem</td>\n",
              "    </tr>\n",
              "    <tr>\n",
              "      <th>9</th>\n",
              "      <td>DSC 1232</td>\n",
              "      <td>4-501</td>\n",
              "      <td>DISCRETE STRUCTURES 1</td>\n",
              "      <td>3.0</td>\n",
              "      <td>B</td>\n",
              "      <td>3.68</td>\n",
              "      <td>1styr_2ndsem</td>\n",
              "    </tr>\n",
              "    <tr>\n",
              "      <th>10</th>\n",
              "      <td>DSC 1233</td>\n",
              "      <td>4-502</td>\n",
              "      <td>COMPUTER PROGRAMMING 2</td>\n",
              "      <td>3.0</td>\n",
              "      <td>A</td>\n",
              "      <td>3.68</td>\n",
              "      <td>1styr_2ndsem</td>\n",
              "    </tr>\n",
              "    <tr>\n",
              "      <th>11</th>\n",
              "      <td>GE 1210</td>\n",
              "      <td>16-641</td>\n",
              "      <td>READINGS IN PHILIPPINE HISTORY</td>\n",
              "      <td>3.0</td>\n",
              "      <td>B+</td>\n",
              "      <td>3.68</td>\n",
              "      <td>1styr_2ndsem</td>\n",
              "    </tr>\n",
              "    <tr>\n",
              "      <th>12</th>\n",
              "      <td>GE 1211</td>\n",
              "      <td>16-656</td>\n",
              "      <td>THE CONTEMPORARY WORLD</td>\n",
              "      <td>3.0</td>\n",
              "      <td>A</td>\n",
              "      <td>3.68</td>\n",
              "      <td>1styr_2ndsem</td>\n",
              "    </tr>\n",
              "    <tr>\n",
              "      <th>13</th>\n",
              "      <td>GE 1212</td>\n",
              "      <td>16-689</td>\n",
              "      <td>SCIENCE, TECHNOLOGY AND SOCIETY</td>\n",
              "      <td>3.0</td>\n",
              "      <td>A</td>\n",
              "      <td>3.68</td>\n",
              "      <td>1styr_2ndsem</td>\n",
              "    </tr>\n",
              "    <tr>\n",
              "      <th>14</th>\n",
              "      <td>MATH 2171</td>\n",
              "      <td>4-503</td>\n",
              "      <td>DIFFERENTIAL CALCULUS</td>\n",
              "      <td>5.0</td>\n",
              "      <td>B+</td>\n",
              "      <td>3.68</td>\n",
              "      <td>1styr_2ndsem</td>\n",
              "    </tr>\n",
              "    <tr>\n",
              "      <th>15</th>\n",
              "      <td>PE 1215</td>\n",
              "      <td>16-870</td>\n",
              "      <td>PATH-FIT II</td>\n",
              "      <td>2.0</td>\n",
              "      <td>A</td>\n",
              "      <td>3.68</td>\n",
              "      <td>1styr_2ndsem</td>\n",
              "    </tr>\n",
              "    <tr>\n",
              "      <th>16</th>\n",
              "      <td>DSC 2134</td>\n",
              "      <td>4-502</td>\n",
              "      <td>INFORMATION MANAGEMENT AND DATABASES</td>\n",
              "      <td>3.0</td>\n",
              "      <td>A</td>\n",
              "      <td>3.70</td>\n",
              "      <td>2ndyr_1stsem</td>\n",
              "    </tr>\n",
              "    <tr>\n",
              "      <th>17</th>\n",
              "      <td>DSC 2135</td>\n",
              "      <td>4-503</td>\n",
              "      <td>OBJECT ORIENTED PROGRAMMING</td>\n",
              "      <td>3.0</td>\n",
              "      <td>A</td>\n",
              "      <td>3.70</td>\n",
              "      <td>2ndyr_1stsem</td>\n",
              "    </tr>\n",
              "    <tr>\n",
              "      <th>18</th>\n",
              "      <td>GE 1107</td>\n",
              "      <td>16-208</td>\n",
              "      <td>ART APPRECIATION</td>\n",
              "      <td>3.0</td>\n",
              "      <td>A</td>\n",
              "      <td>3.70</td>\n",
              "      <td>2ndyr_1stsem</td>\n",
              "    </tr>\n",
              "    <tr>\n",
              "      <th>19</th>\n",
              "      <td>GE 1109</td>\n",
              "      <td>16-530</td>\n",
              "      <td>ETHICS</td>\n",
              "      <td>3.0</td>\n",
              "      <td>A</td>\n",
              "      <td>3.70</td>\n",
              "      <td>2ndyr_1stsem</td>\n",
              "    </tr>\n",
              "    <tr>\n",
              "      <th>20</th>\n",
              "      <td>GE 3118</td>\n",
              "      <td>16-681</td>\n",
              "      <td>ELECTIVE 1: VIRTUAL COMMUNICATION</td>\n",
              "      <td>3.0</td>\n",
              "      <td>A</td>\n",
              "      <td>3.70</td>\n",
              "      <td>2ndyr_1stsem</td>\n",
              "    </tr>\n",
              "    <tr>\n",
              "      <th>21</th>\n",
              "      <td>MATH 2138</td>\n",
              "      <td>4-504</td>\n",
              "      <td>LINEAR ALGEBRA</td>\n",
              "      <td>3.0</td>\n",
              "      <td>A</td>\n",
              "      <td>3.70</td>\n",
              "      <td>2ndyr_1stsem</td>\n",
              "    </tr>\n",
              "    <tr>\n",
              "      <th>22</th>\n",
              "      <td>MATH 2272</td>\n",
              "      <td>4-505</td>\n",
              "      <td>INTEGRAL CALCULUS</td>\n",
              "      <td>5.0</td>\n",
              "      <td>C+</td>\n",
              "      <td>3.70</td>\n",
              "      <td>2ndyr_1stsem</td>\n",
              "    </tr>\n",
              "    <tr>\n",
              "      <th>23</th>\n",
              "      <td>PE 2116</td>\n",
              "      <td>16-620</td>\n",
              "      <td>PATH-FIT III: VOLLEYBALL</td>\n",
              "      <td>2.0</td>\n",
              "      <td>A</td>\n",
              "      <td>3.70</td>\n",
              "      <td>2ndyr_1stsem</td>\n",
              "    </tr>\n",
              "    <tr>\n",
              "      <th>24</th>\n",
              "      <td>DSC 2236</td>\n",
              "      <td>4-501</td>\n",
              "      <td>LINEAR MODELS</td>\n",
              "      <td>3.0</td>\n",
              "      <td>A</td>\n",
              "      <td>3.84</td>\n",
              "      <td>2ndyr_2ndsem</td>\n",
              "    </tr>\n",
              "    <tr>\n",
              "      <th>25</th>\n",
              "      <td>DSC 2237</td>\n",
              "      <td>4-505</td>\n",
              "      <td>BUSINESS INTELLIGENCE</td>\n",
              "      <td>3.0</td>\n",
              "      <td>B+</td>\n",
              "      <td>3.84</td>\n",
              "      <td>2ndyr_2ndsem</td>\n",
              "    </tr>\n",
              "    <tr>\n",
              "      <th>26</th>\n",
              "      <td>DSC 2238</td>\n",
              "      <td>4-506</td>\n",
              "      <td>DATA SCIENCE FUNDAMENTALS</td>\n",
              "      <td>3.0</td>\n",
              "      <td>B</td>\n",
              "      <td>3.84</td>\n",
              "      <td>2ndyr_2ndsem</td>\n",
              "    </tr>\n",
              "    <tr>\n",
              "      <th>27</th>\n",
              "      <td>DSC 2239</td>\n",
              "      <td>4-507</td>\n",
              "      <td>DATA STRUCTURES AND ALGORITHMS</td>\n",
              "      <td>3.0</td>\n",
              "      <td>A</td>\n",
              "      <td>3.84</td>\n",
              "      <td>2ndyr_2ndsem</td>\n",
              "    </tr>\n",
              "    <tr>\n",
              "      <th>28</th>\n",
              "      <td>DSC 2240</td>\n",
              "      <td>4-504</td>\n",
              "      <td>PHYSICS FOR COMPUTING</td>\n",
              "      <td>5.0</td>\n",
              "      <td>A</td>\n",
              "      <td>3.84</td>\n",
              "      <td>2ndyr_2ndsem</td>\n",
              "    </tr>\n",
              "    <tr>\n",
              "      <th>29</th>\n",
              "      <td>GE 1213</td>\n",
              "      <td>16-033</td>\n",
              "      <td>LIFE AND WORKS OF RIZAL</td>\n",
              "      <td>3.0</td>\n",
              "      <td>A</td>\n",
              "      <td>3.84</td>\n",
              "      <td>2ndyr_2ndsem</td>\n",
              "    </tr>\n",
              "    <tr>\n",
              "      <th>30</th>\n",
              "      <td>GE 3219</td>\n",
              "      <td>16-037</td>\n",
              "      <td>ELECTIVE 2: PHILIPPINE POP CULTURE</td>\n",
              "      <td>3.0</td>\n",
              "      <td>A</td>\n",
              "      <td>3.84</td>\n",
              "      <td>2ndyr_2ndsem</td>\n",
              "    </tr>\n",
              "    <tr>\n",
              "      <th>31</th>\n",
              "      <td>MATH 3274</td>\n",
              "      <td>4-508</td>\n",
              "      <td>PROBABILITY AND STATISTICS</td>\n",
              "      <td>3.0</td>\n",
              "      <td>A</td>\n",
              "      <td>3.84</td>\n",
              "      <td>2ndyr_2ndsem</td>\n",
              "    </tr>\n",
              "    <tr>\n",
              "      <th>32</th>\n",
              "      <td>PE 2217</td>\n",
              "      <td>16-827</td>\n",
              "      <td>PATH-FIT IV: BADMINTON</td>\n",
              "      <td>2.0</td>\n",
              "      <td>A</td>\n",
              "      <td>3.84</td>\n",
              "      <td>2ndyr_2ndsem</td>\n",
              "    </tr>\n",
              "  </tbody>\n",
              "</table>\n",
              "</div>\n",
              "      <button class=\"colab-df-convert\" onclick=\"convertToInteractive('df-5cd9a2b9-5b12-4d74-98e0-f391631f7a10')\"\n",
              "              title=\"Convert this dataframe to an interactive table.\"\n",
              "              style=\"display:none;\">\n",
              "        \n",
              "  <svg xmlns=\"http://www.w3.org/2000/svg\" height=\"24px\"viewBox=\"0 0 24 24\"\n",
              "       width=\"24px\">\n",
              "    <path d=\"M0 0h24v24H0V0z\" fill=\"none\"/>\n",
              "    <path d=\"M18.56 5.44l.94 2.06.94-2.06 2.06-.94-2.06-.94-.94-2.06-.94 2.06-2.06.94zm-11 1L8.5 8.5l.94-2.06 2.06-.94-2.06-.94L8.5 2.5l-.94 2.06-2.06.94zm10 10l.94 2.06.94-2.06 2.06-.94-2.06-.94-.94-2.06-.94 2.06-2.06.94z\"/><path d=\"M17.41 7.96l-1.37-1.37c-.4-.4-.92-.59-1.43-.59-.52 0-1.04.2-1.43.59L10.3 9.45l-7.72 7.72c-.78.78-.78 2.05 0 2.83L4 21.41c.39.39.9.59 1.41.59.51 0 1.02-.2 1.41-.59l7.78-7.78 2.81-2.81c.8-.78.8-2.07 0-2.86zM5.41 20L4 18.59l7.72-7.72 1.47 1.35L5.41 20z\"/>\n",
              "  </svg>\n",
              "      </button>\n",
              "      \n",
              "  <style>\n",
              "    .colab-df-container {\n",
              "      display:flex;\n",
              "      flex-wrap:wrap;\n",
              "      gap: 12px;\n",
              "    }\n",
              "\n",
              "    .colab-df-convert {\n",
              "      background-color: #E8F0FE;\n",
              "      border: none;\n",
              "      border-radius: 50%;\n",
              "      cursor: pointer;\n",
              "      display: none;\n",
              "      fill: #1967D2;\n",
              "      height: 32px;\n",
              "      padding: 0 0 0 0;\n",
              "      width: 32px;\n",
              "    }\n",
              "\n",
              "    .colab-df-convert:hover {\n",
              "      background-color: #E2EBFA;\n",
              "      box-shadow: 0px 1px 2px rgba(60, 64, 67, 0.3), 0px 1px 3px 1px rgba(60, 64, 67, 0.15);\n",
              "      fill: #174EA6;\n",
              "    }\n",
              "\n",
              "    [theme=dark] .colab-df-convert {\n",
              "      background-color: #3B4455;\n",
              "      fill: #D2E3FC;\n",
              "    }\n",
              "\n",
              "    [theme=dark] .colab-df-convert:hover {\n",
              "      background-color: #434B5C;\n",
              "      box-shadow: 0px 1px 3px 1px rgba(0, 0, 0, 0.15);\n",
              "      filter: drop-shadow(0px 1px 2px rgba(0, 0, 0, 0.3));\n",
              "      fill: #FFFFFF;\n",
              "    }\n",
              "  </style>\n",
              "\n",
              "      <script>\n",
              "        const buttonEl =\n",
              "          document.querySelector('#df-5cd9a2b9-5b12-4d74-98e0-f391631f7a10 button.colab-df-convert');\n",
              "        buttonEl.style.display =\n",
              "          google.colab.kernel.accessAllowed ? 'block' : 'none';\n",
              "\n",
              "        async function convertToInteractive(key) {\n",
              "          const element = document.querySelector('#df-5cd9a2b9-5b12-4d74-98e0-f391631f7a10');\n",
              "          const dataTable =\n",
              "            await google.colab.kernel.invokeFunction('convertToInteractive',\n",
              "                                                     [key], {});\n",
              "          if (!dataTable) return;\n",
              "\n",
              "          const docLinkHtml = 'Like what you see? Visit the ' +\n",
              "            '<a target=\"_blank\" href=https://colab.research.google.com/notebooks/data_table.ipynb>data table notebook</a>'\n",
              "            + ' to learn more about interactive tables.';\n",
              "          element.innerHTML = '';\n",
              "          dataTable['output_type'] = 'display_data';\n",
              "          await google.colab.output.renderOutput(dataTable, element);\n",
              "          const docLink = document.createElement('div');\n",
              "          docLink.innerHTML = docLinkHtml;\n",
              "          element.appendChild(docLink);\n",
              "        }\n",
              "      </script>\n",
              "    </div>\n",
              "  </div>\n",
              "  "
            ]
          },
          "metadata": {},
          "execution_count": 5
        }
      ]
    },
    {
      "cell_type": "code",
      "source": [
        "dataset.info()"
      ],
      "metadata": {
        "colab": {
          "base_uri": "https://localhost:8080/"
        },
        "id": "S5Scq80XOFNT",
        "outputId": "6dbb75b8-0969-4310-c817-a929d4ac8f4c"
      },
      "execution_count": null,
      "outputs": [
        {
          "output_type": "stream",
          "name": "stdout",
          "text": [
            "<class 'pandas.core.frame.DataFrame'>\n",
            "RangeIndex: 33 entries, 0 to 32\n",
            "Data columns (total 7 columns):\n",
            " #   Column      Non-Null Count  Dtype  \n",
            "---  ------      --------------  -----  \n",
            " 0   class_code  33 non-null     object \n",
            " 1   subj_no     33 non-null     object \n",
            " 2   subj_desc   33 non-null     object \n",
            " 3   units       33 non-null     float64\n",
            " 4   final       33 non-null     object \n",
            " 5   qpi         33 non-null     float64\n",
            " 6   year_sem    33 non-null     object \n",
            "dtypes: float64(2), object(5)\n",
            "memory usage: 1.9+ KB\n"
          ]
        }
      ]
    },
    {
      "cell_type": "markdown",
      "source": [
        "### For each semester, get and display the value count of all A’s you got.\n",
        "- Getting the column 'year_sem' and its specific year and semester then displaying and getting its value count of all the A's"
      ],
      "metadata": {
        "id": "GcAZeudFOgmD"
      }
    },
    {
      "cell_type": "code",
      "source": [
        "First1 = dataset[dataset['year_sem'] == '1styr_1stsem']\n",
        "First1"
      ],
      "metadata": {
        "colab": {
          "base_uri": "https://localhost:8080/",
          "height": 300
        },
        "id": "KJ8wHpmlEasn",
        "outputId": "dfb1ad4f-6c8a-43dd-cd54-1a847e65f72a"
      },
      "execution_count": null,
      "outputs": [
        {
          "output_type": "execute_result",
          "data": {
            "text/plain": [
              "  class_code  subj_no                                          subj_desc  \\\n",
              "0   ASF 1101  16-5100                          ARRUPE SOCIAL FORMATION 1   \n",
              "1   ASF 1102  16-6002  NATIONAL SERVICE TRAINING PROGRAM - CIVIC WELF...   \n",
              "2   DSC 1130    4-301                          INTRODUCTION TO COMPUTING   \n",
              "3   DSC 1131    4-501                             COMPUTER PROGRAMMING 1   \n",
              "4    GE 1105   16-160                             UNDERSTANDING THE SELF   \n",
              "5    GE 1106   16-502                            PURPOSIVE COMMUNICATION   \n",
              "6    GE 1108   16-216                    MATHEMATICS IN THE MODERN WORLD   \n",
              "7    PE 1114   16-336                                         PATH-FIT I   \n",
              "\n",
              "   units final   qpi      year_sem  \n",
              "0    2.0     A  3.91  1styr_1stsem  \n",
              "1    3.0    B+  3.91  1styr_1stsem  \n",
              "2    3.0     A  3.91  1styr_1stsem  \n",
              "3    3.0     A  3.91  1styr_1stsem  \n",
              "4    3.0     A  3.91  1styr_1stsem  \n",
              "5    3.0     A  3.91  1styr_1stsem  \n",
              "6    3.0    B+  3.91  1styr_1stsem  \n",
              "7    2.0     A  3.91  1styr_1stsem  "
            ],
            "text/html": [
              "\n",
              "  <div id=\"df-0d678e83-0fe6-4b65-8be5-d2c1891c8f68\">\n",
              "    <div class=\"colab-df-container\">\n",
              "      <div>\n",
              "<style scoped>\n",
              "    .dataframe tbody tr th:only-of-type {\n",
              "        vertical-align: middle;\n",
              "    }\n",
              "\n",
              "    .dataframe tbody tr th {\n",
              "        vertical-align: top;\n",
              "    }\n",
              "\n",
              "    .dataframe thead th {\n",
              "        text-align: right;\n",
              "    }\n",
              "</style>\n",
              "<table border=\"1\" class=\"dataframe\">\n",
              "  <thead>\n",
              "    <tr style=\"text-align: right;\">\n",
              "      <th></th>\n",
              "      <th>class_code</th>\n",
              "      <th>subj_no</th>\n",
              "      <th>subj_desc</th>\n",
              "      <th>units</th>\n",
              "      <th>final</th>\n",
              "      <th>qpi</th>\n",
              "      <th>year_sem</th>\n",
              "    </tr>\n",
              "  </thead>\n",
              "  <tbody>\n",
              "    <tr>\n",
              "      <th>0</th>\n",
              "      <td>ASF 1101</td>\n",
              "      <td>16-5100</td>\n",
              "      <td>ARRUPE SOCIAL FORMATION 1</td>\n",
              "      <td>2.0</td>\n",
              "      <td>A</td>\n",
              "      <td>3.91</td>\n",
              "      <td>1styr_1stsem</td>\n",
              "    </tr>\n",
              "    <tr>\n",
              "      <th>1</th>\n",
              "      <td>ASF 1102</td>\n",
              "      <td>16-6002</td>\n",
              "      <td>NATIONAL SERVICE TRAINING PROGRAM - CIVIC WELF...</td>\n",
              "      <td>3.0</td>\n",
              "      <td>B+</td>\n",
              "      <td>3.91</td>\n",
              "      <td>1styr_1stsem</td>\n",
              "    </tr>\n",
              "    <tr>\n",
              "      <th>2</th>\n",
              "      <td>DSC 1130</td>\n",
              "      <td>4-301</td>\n",
              "      <td>INTRODUCTION TO COMPUTING</td>\n",
              "      <td>3.0</td>\n",
              "      <td>A</td>\n",
              "      <td>3.91</td>\n",
              "      <td>1styr_1stsem</td>\n",
              "    </tr>\n",
              "    <tr>\n",
              "      <th>3</th>\n",
              "      <td>DSC 1131</td>\n",
              "      <td>4-501</td>\n",
              "      <td>COMPUTER PROGRAMMING 1</td>\n",
              "      <td>3.0</td>\n",
              "      <td>A</td>\n",
              "      <td>3.91</td>\n",
              "      <td>1styr_1stsem</td>\n",
              "    </tr>\n",
              "    <tr>\n",
              "      <th>4</th>\n",
              "      <td>GE 1105</td>\n",
              "      <td>16-160</td>\n",
              "      <td>UNDERSTANDING THE SELF</td>\n",
              "      <td>3.0</td>\n",
              "      <td>A</td>\n",
              "      <td>3.91</td>\n",
              "      <td>1styr_1stsem</td>\n",
              "    </tr>\n",
              "    <tr>\n",
              "      <th>5</th>\n",
              "      <td>GE 1106</td>\n",
              "      <td>16-502</td>\n",
              "      <td>PURPOSIVE COMMUNICATION</td>\n",
              "      <td>3.0</td>\n",
              "      <td>A</td>\n",
              "      <td>3.91</td>\n",
              "      <td>1styr_1stsem</td>\n",
              "    </tr>\n",
              "    <tr>\n",
              "      <th>6</th>\n",
              "      <td>GE 1108</td>\n",
              "      <td>16-216</td>\n",
              "      <td>MATHEMATICS IN THE MODERN WORLD</td>\n",
              "      <td>3.0</td>\n",
              "      <td>B+</td>\n",
              "      <td>3.91</td>\n",
              "      <td>1styr_1stsem</td>\n",
              "    </tr>\n",
              "    <tr>\n",
              "      <th>7</th>\n",
              "      <td>PE 1114</td>\n",
              "      <td>16-336</td>\n",
              "      <td>PATH-FIT I</td>\n",
              "      <td>2.0</td>\n",
              "      <td>A</td>\n",
              "      <td>3.91</td>\n",
              "      <td>1styr_1stsem</td>\n",
              "    </tr>\n",
              "  </tbody>\n",
              "</table>\n",
              "</div>\n",
              "      <button class=\"colab-df-convert\" onclick=\"convertToInteractive('df-0d678e83-0fe6-4b65-8be5-d2c1891c8f68')\"\n",
              "              title=\"Convert this dataframe to an interactive table.\"\n",
              "              style=\"display:none;\">\n",
              "        \n",
              "  <svg xmlns=\"http://www.w3.org/2000/svg\" height=\"24px\"viewBox=\"0 0 24 24\"\n",
              "       width=\"24px\">\n",
              "    <path d=\"M0 0h24v24H0V0z\" fill=\"none\"/>\n",
              "    <path d=\"M18.56 5.44l.94 2.06.94-2.06 2.06-.94-2.06-.94-.94-2.06-.94 2.06-2.06.94zm-11 1L8.5 8.5l.94-2.06 2.06-.94-2.06-.94L8.5 2.5l-.94 2.06-2.06.94zm10 10l.94 2.06.94-2.06 2.06-.94-2.06-.94-.94-2.06-.94 2.06-2.06.94z\"/><path d=\"M17.41 7.96l-1.37-1.37c-.4-.4-.92-.59-1.43-.59-.52 0-1.04.2-1.43.59L10.3 9.45l-7.72 7.72c-.78.78-.78 2.05 0 2.83L4 21.41c.39.39.9.59 1.41.59.51 0 1.02-.2 1.41-.59l7.78-7.78 2.81-2.81c.8-.78.8-2.07 0-2.86zM5.41 20L4 18.59l7.72-7.72 1.47 1.35L5.41 20z\"/>\n",
              "  </svg>\n",
              "      </button>\n",
              "      \n",
              "  <style>\n",
              "    .colab-df-container {\n",
              "      display:flex;\n",
              "      flex-wrap:wrap;\n",
              "      gap: 12px;\n",
              "    }\n",
              "\n",
              "    .colab-df-convert {\n",
              "      background-color: #E8F0FE;\n",
              "      border: none;\n",
              "      border-radius: 50%;\n",
              "      cursor: pointer;\n",
              "      display: none;\n",
              "      fill: #1967D2;\n",
              "      height: 32px;\n",
              "      padding: 0 0 0 0;\n",
              "      width: 32px;\n",
              "    }\n",
              "\n",
              "    .colab-df-convert:hover {\n",
              "      background-color: #E2EBFA;\n",
              "      box-shadow: 0px 1px 2px rgba(60, 64, 67, 0.3), 0px 1px 3px 1px rgba(60, 64, 67, 0.15);\n",
              "      fill: #174EA6;\n",
              "    }\n",
              "\n",
              "    [theme=dark] .colab-df-convert {\n",
              "      background-color: #3B4455;\n",
              "      fill: #D2E3FC;\n",
              "    }\n",
              "\n",
              "    [theme=dark] .colab-df-convert:hover {\n",
              "      background-color: #434B5C;\n",
              "      box-shadow: 0px 1px 3px 1px rgba(0, 0, 0, 0.15);\n",
              "      filter: drop-shadow(0px 1px 2px rgba(0, 0, 0, 0.3));\n",
              "      fill: #FFFFFF;\n",
              "    }\n",
              "  </style>\n",
              "\n",
              "      <script>\n",
              "        const buttonEl =\n",
              "          document.querySelector('#df-0d678e83-0fe6-4b65-8be5-d2c1891c8f68 button.colab-df-convert');\n",
              "        buttonEl.style.display =\n",
              "          google.colab.kernel.accessAllowed ? 'block' : 'none';\n",
              "\n",
              "        async function convertToInteractive(key) {\n",
              "          const element = document.querySelector('#df-0d678e83-0fe6-4b65-8be5-d2c1891c8f68');\n",
              "          const dataTable =\n",
              "            await google.colab.kernel.invokeFunction('convertToInteractive',\n",
              "                                                     [key], {});\n",
              "          if (!dataTable) return;\n",
              "\n",
              "          const docLinkHtml = 'Like what you see? Visit the ' +\n",
              "            '<a target=\"_blank\" href=https://colab.research.google.com/notebooks/data_table.ipynb>data table notebook</a>'\n",
              "            + ' to learn more about interactive tables.';\n",
              "          element.innerHTML = '';\n",
              "          dataTable['output_type'] = 'display_data';\n",
              "          await google.colab.output.renderOutput(dataTable, element);\n",
              "          const docLink = document.createElement('div');\n",
              "          docLink.innerHTML = docLinkHtml;\n",
              "          element.appendChild(docLink);\n",
              "        }\n",
              "      </script>\n",
              "    </div>\n",
              "  </div>\n",
              "  "
            ]
          },
          "metadata": {},
          "execution_count": 206
        }
      ]
    },
    {
      "cell_type": "code",
      "source": [
        "First1[First1['final'] == 'A']['final'].value_counts()"
      ],
      "metadata": {
        "colab": {
          "base_uri": "https://localhost:8080/"
        },
        "id": "SCWDJGEbGr2H",
        "outputId": "96a5e743-76a3-410c-fb6d-1c706993687b"
      },
      "execution_count": null,
      "outputs": [
        {
          "output_type": "execute_result",
          "data": {
            "text/plain": [
              "A    6\n",
              "Name: final, dtype: int64"
            ]
          },
          "metadata": {},
          "execution_count": 207
        }
      ]
    },
    {
      "cell_type": "code",
      "source": [
        "First2 = dataset[dataset['year_sem'] == '1styr_2ndsem']\n",
        "First2[First2['final'] == 'A']['final'].value_counts()"
      ],
      "metadata": {
        "colab": {
          "base_uri": "https://localhost:8080/"
        },
        "id": "AWXSMqMSHqM5",
        "outputId": "90122a62-8842-41ee-a77b-e809a121db6e"
      },
      "execution_count": null,
      "outputs": [
        {
          "output_type": "execute_result",
          "data": {
            "text/plain": [
              "A    4\n",
              "Name: final, dtype: int64"
            ]
          },
          "metadata": {},
          "execution_count": 208
        }
      ]
    },
    {
      "cell_type": "code",
      "source": [
        "Second1 = dataset[dataset['year_sem'] == '2ndyr_1stsem']\n",
        "Second1[Second1['final'] == 'A']['final'].value_counts()"
      ],
      "metadata": {
        "colab": {
          "base_uri": "https://localhost:8080/"
        },
        "id": "x-mMVAoNIYYk",
        "outputId": "6223a930-a6d4-4588-c429-d5efcbdad706"
      },
      "execution_count": null,
      "outputs": [
        {
          "output_type": "execute_result",
          "data": {
            "text/plain": [
              "A    7\n",
              "Name: final, dtype: int64"
            ]
          },
          "metadata": {},
          "execution_count": 209
        }
      ]
    },
    {
      "cell_type": "code",
      "source": [
        "Second2 = dataset[dataset['year_sem'] == '2ndyr_2ndsem']\n",
        "Second2[Second2['final'] == 'A']['final'].value_counts()"
      ],
      "metadata": {
        "colab": {
          "base_uri": "https://localhost:8080/"
        },
        "id": "HDQAt9H9IfVt",
        "outputId": "2304a692-482b-46bd-8969-106d3b99cff5"
      },
      "execution_count": null,
      "outputs": [
        {
          "output_type": "execute_result",
          "data": {
            "text/plain": [
              "A    7\n",
              "Name: final, dtype: int64"
            ]
          },
          "metadata": {},
          "execution_count": 210
        }
      ]
    },
    {
      "cell_type": "markdown",
      "source": [
        "### For each semester, get and display the value count of all non-A’s you got.\n",
        "- Like the previous \"getting the column 'year_sem' and its specific year and semester then displaying and getting its value count of all the A's\" except you place the operator \"!=\" to get the non-A's"
      ],
      "metadata": {
        "id": "gin0GzVuOkPe"
      }
    },
    {
      "cell_type": "code",
      "source": [
        "First1[First1['final'] != 'A']['final'].value_counts()"
      ],
      "metadata": {
        "id": "eHmuZG9-R7-K",
        "colab": {
          "base_uri": "https://localhost:8080/"
        },
        "outputId": "216856b7-d0dd-4b5d-988f-89afa40498e5"
      },
      "execution_count": null,
      "outputs": [
        {
          "output_type": "execute_result",
          "data": {
            "text/plain": [
              "B+    2\n",
              "Name: final, dtype: int64"
            ]
          },
          "metadata": {},
          "execution_count": 211
        }
      ]
    },
    {
      "cell_type": "code",
      "source": [
        "First2[First2['final'] != 'A']['final'].value_counts()"
      ],
      "metadata": {
        "colab": {
          "base_uri": "https://localhost:8080/"
        },
        "id": "_XAksve5JBEU",
        "outputId": "01ee623b-1e98-4a41-a547-fe393fd2431e"
      },
      "execution_count": null,
      "outputs": [
        {
          "output_type": "execute_result",
          "data": {
            "text/plain": [
              "B+    3\n",
              "B     1\n",
              "Name: final, dtype: int64"
            ]
          },
          "metadata": {},
          "execution_count": 212
        }
      ]
    },
    {
      "cell_type": "code",
      "source": [
        "Second1[Second1['final'] != 'A']['final'].value_counts()"
      ],
      "metadata": {
        "colab": {
          "base_uri": "https://localhost:8080/"
        },
        "id": "QyqWuWRYJETj",
        "outputId": "3d4ad4ca-acee-4d2d-87f6-dc844a3ada86"
      },
      "execution_count": null,
      "outputs": [
        {
          "output_type": "execute_result",
          "data": {
            "text/plain": [
              "C+    1\n",
              "Name: final, dtype: int64"
            ]
          },
          "metadata": {},
          "execution_count": 213
        }
      ]
    },
    {
      "cell_type": "code",
      "source": [
        "Second2[Second2['final'] != 'A']['final'].value_counts()"
      ],
      "metadata": {
        "colab": {
          "base_uri": "https://localhost:8080/"
        },
        "id": "jo8qwM7TJHWg",
        "outputId": "c3660cd3-5ed2-4882-b832-fa8af47ffa42"
      },
      "execution_count": null,
      "outputs": [
        {
          "output_type": "execute_result",
          "data": {
            "text/plain": [
              "B+    1\n",
              "B     1\n",
              "Name: final, dtype: int64"
            ]
          },
          "metadata": {},
          "execution_count": 214
        }
      ]
    },
    {
      "cell_type": "markdown",
      "source": [
        "### Create a line plot where in the x-axis is the year and semester (string) and the y axis is your QPI.\n",
        "- using plt.plot() to get the x and y axis\n",
        "- plt.show() to show the plot"
      ],
      "metadata": {
        "id": "D58P691iSLSc"
      }
    },
    {
      "cell_type": "code",
      "source": [
        "plt.plot(dataset.year_sem, dataset.qpi)\n",
        "plt.show()"
      ],
      "metadata": {
        "id": "GmdnjmAcSQfv",
        "colab": {
          "base_uri": "https://localhost:8080/",
          "height": 266
        },
        "outputId": "8544bc57-be3e-4993-ea12-e4040149aeea"
      },
      "execution_count": null,
      "outputs": [
        {
          "output_type": "display_data",
          "data": {
            "text/plain": [
              "<Figure size 432x288 with 1 Axes>"
            ],
            "image/png": "[encoded data removed]"
          },
          "metadata": {
            "needs_background": "light"
          }
        }
      ]
    },
    {
      "cell_type": "markdown",
      "source": [
        "### For each semester, create a histogram displaying the count of all letter grades within a semester.\n",
        "- getting the value_counts so that getting the histogram plot (df.plot(kind='hist')) there will be a number value"
      ],
      "metadata": {
        "id": "dZWSXlj1S3gh"
      }
    },
    {
      "cell_type": "code",
      "source": [
        "HFirst1 = First1.value_counts('final')\n",
        "HFirst1"
      ],
      "metadata": {
        "id": "tOfw6kVbS41F",
        "colab": {
          "base_uri": "https://localhost:8080/"
        },
        "outputId": "f2c8de45-57d6-4d13-d10b-8f9bb622f54a"
      },
      "execution_count": null,
      "outputs": [
        {
          "output_type": "execute_result",
          "data": {
            "text/plain": [
              "final\n",
              "A     6\n",
              "B+    2\n",
              "dtype: int64"
            ]
          },
          "metadata": {},
          "execution_count": 188
        }
      ]
    },
    {
      "cell_type": "code",
      "source": [
        "HFirst1.plot(kind='hist')"
      ],
      "metadata": {
        "colab": {
          "base_uri": "https://localhost:8080/",
          "height": 283
        },
        "id": "soyiBQI3Gcnm",
        "outputId": "82e5a3b3-41b6-4a4d-928c-d1d561772d22"
      },
      "execution_count": null,
      "outputs": [
        {
          "output_type": "execute_result",
          "data": {
            "text/plain": [
              "<matplotlib.axes._subplots.AxesSubplot at 0x7f1e26774d10>"
            ]
          },
          "metadata": {},
          "execution_count": 192
        },
        {
          "output_type": "display_data",
          "data": {
            "text/plain": [
              "<Figure size 432x288 with 1 Axes>"
            ],
            "image/png": "[encoded data removed]"
          },
          "metadata": {
            "needs_background": "light"
          }
        }
      ]
    },
    {
      "cell_type": "code",
      "source": [
        "HFirst2 = First2.value_counts('final')\n",
        "plt.hist(HFirst2)\n",
        "plt.show()"
      ],
      "metadata": {
        "colab": {
          "base_uri": "https://localhost:8080/",
          "height": 265
        },
        "id": "QfMOYxwyO6ew",
        "outputId": "e32fdd07-4e5b-4a6e-d9aa-ecfb4a5e9f2c"
      },
      "execution_count": null,
      "outputs": [
        {
          "output_type": "display_data",
          "data": {
            "text/plain": [
              "<Figure size 432x288 with 1 Axes>"
            ],
            "image/png": "[encoded data removed]"
          },
          "metadata": {
            "needs_background": "light"
          }
        }
      ]
    },
    {
      "cell_type": "code",
      "source": [
        "HSecond1 = Second1.value_counts('final')\n",
        "plt.hist(HSecond1)\n",
        "plt.show()"
      ],
      "metadata": {
        "colab": {
          "base_uri": "https://localhost:8080/",
          "height": 265
        },
        "id": "MTZ6fLTxPvxF",
        "outputId": "d16a9fa2-382b-47dc-a1cd-2acc736fa267"
      },
      "execution_count": null,
      "outputs": [
        {
          "output_type": "display_data",
          "data": {
            "text/plain": [
              "<Figure size 432x288 with 1 Axes>"
            ],
            "image/png": "[encoded data removed]"
          },
          "metadata": {
            "needs_background": "light"
          }
        }
      ]
    },
    {
      "cell_type": "code",
      "source": [
        "HSecond2 = Second2.value_counts('final')\n",
        "plt.hist(HSecond2)\n",
        "plt.show()"
      ],
      "metadata": {
        "colab": {
          "base_uri": "https://localhost:8080/",
          "height": 265
        },
        "id": "0LcmkOiXP2Ki",
        "outputId": "68b1ffc3-8a6e-44b1-eb16-76861b76ccb4"
      },
      "execution_count": null,
      "outputs": [
        {
          "output_type": "display_data",
          "data": {
            "text/plain": [
              "<Figure size 432x288 with 1 Axes>"
            ],
            "image/png": "[encoded data removed]"
          },
          "metadata": {
            "needs_background": "light"
          }
        }
      ]
    },
    {
      "cell_type": "markdown",
      "source": [
        "### Create a histogram displaying the count of all letter grades from the entire dataset."
      ],
      "metadata": {
        "id": "qDs6opnaS8fT"
      }
    },
    {
      "cell_type": "code",
      "source": [
        "hds = dataset['final'].value_counts()\n",
        "hds.plot(kind='hist')"
      ],
      "metadata": {
        "id": "XQyLS0LrS9Zt",
        "colab": {
          "base_uri": "https://localhost:8080/",
          "height": 283
        },
        "outputId": "7e4279e0-2c10-4909-e758-7e387a250d22"
      },
      "execution_count": null,
      "outputs": [
        {
          "output_type": "execute_result",
          "data": {
            "text/plain": [
              "<matplotlib.axes._subplots.AxesSubplot at 0x7f1e2653c8d0>"
            ]
          },
          "metadata": {},
          "execution_count": 198
        },
        {
          "output_type": "display_data",
          "data": {
            "text/plain": [
              "<Figure size 432x288 with 1 Axes>"
            ],
            "image/png": "[encoded data removed]"
          },
          "metadata": {
            "needs_background": "light"
          }
        }
      ]
    },
    {
      "cell_type": "markdown",
      "source": [
        "### For each semester, create a pie chart displaying the percentage of all letter grades from the entire dataset.\n",
        "- using the value_counts() to get the number of letter grades\n",
        "- df.plot.pie() to use the pie chart to display the percentage of the letter grades\n",
        "- using autopct to get and display the percentage"
      ],
      "metadata": {
        "id": "wRUEeGnXS9m0"
      }
    },
    {
      "cell_type": "code",
      "source": [
        "PFirst1 = First1.value_counts('final')\n",
        "PFirst1.plot.pie(subplots=True, figsize = (5,5), fontsize=20, autopct='%.2f', ylabel = 'grade')"
      ],
      "metadata": {
        "id": "HMgREa9YTFFp",
        "colab": {
          "base_uri": "https://localhost:8080/",
          "height": 340
        },
        "outputId": "0a3c3ac5-f571-4dac-9f52-c5c7aca5d117"
      },
      "execution_count": null,
      "outputs": [
        {
          "output_type": "execute_result",
          "data": {
            "text/plain": [
              "array([<matplotlib.axes._subplots.AxesSubplot object at 0x7f1e26361b10>],\n",
              "      dtype=object)"
            ]
          },
          "metadata": {},
          "execution_count": 202
        },
        {
          "output_type": "display_data",
          "data": {
            "text/plain": [
              "<Figure size 360x360 with 1 Axes>"
            ],
            "image/png": "[encoded data removed]"
          },
          "metadata": {}
        }
      ]
    },
    {
      "cell_type": "code",
      "source": [
        "PFirst2 = First2.value_counts('final')\n",
        "PFirst2.plot.pie(subplots=True, figsize = (5,5), fontsize=20, autopct='%.2f', ylabel = 'grade')"
      ],
      "metadata": {
        "colab": {
          "base_uri": "https://localhost:8080/",
          "height": 340
        },
        "id": "AY-ipEVVTKkv",
        "outputId": "89507e8b-f3e1-4e2c-9428-5891a0598ca4"
      },
      "execution_count": null,
      "outputs": [
        {
          "output_type": "execute_result",
          "data": {
            "text/plain": [
              "array([<matplotlib.axes._subplots.AxesSubplot object at 0x7f1e267527d0>],\n",
              "      dtype=object)"
            ]
          },
          "metadata": {},
          "execution_count": 203
        },
        {
          "output_type": "display_data",
          "data": {
            "text/plain": [
              "<Figure size 360x360 with 1 Axes>"
            ],
            "image/png": "[encoded data removed]"
          },
          "metadata": {}
        }
      ]
    },
    {
      "cell_type": "code",
      "source": [
        "PSecond1 = Second1.value_counts('final')\n",
        "PSecond1.plot.pie(subplots=True, figsize = (5,5), fontsize=20, autopct='%.2f', ylabel = 'grade')"
      ],
      "metadata": {
        "colab": {
          "base_uri": "https://localhost:8080/",
          "height": 340
        },
        "id": "DuoJ6ijqTTmo",
        "outputId": "10dc8cb0-2e2d-45fd-f4d8-9da6670a1c3e"
      },
      "execution_count": null,
      "outputs": [
        {
          "output_type": "execute_result",
          "data": {
            "text/plain": [
              "array([<matplotlib.axes._subplots.AxesSubplot object at 0x7f1e26fb9710>],\n",
              "      dtype=object)"
            ]
          },
          "metadata": {},
          "execution_count": 204
        },
        {
          "output_type": "display_data",
          "data": {
            "text/plain": [
              "<Figure size 360x360 with 1 Axes>"
            ],
            "image/png": "[encoded data removed]"
          },
          "metadata": {}
        }
      ]
    },
    {
      "cell_type": "code",
      "source": [
        "PSecond2 = Second2.value_counts('final')\n",
        "PSecond2.plot.pie(subplots=True, figsize = (5,5), fontsize=20, autopct='%.2f', ylabel = 'grade')"
      ],
      "metadata": {
        "colab": {
          "base_uri": "https://localhost:8080/",
          "height": 340
        },
        "id": "KgjyJlr0TYyO",
        "outputId": "ab667723-5ceb-400f-f152-3e548533e5bf"
      },
      "execution_count": null,
      "outputs": [
        {
          "output_type": "execute_result",
          "data": {
            "text/plain": [
              "array([<matplotlib.axes._subplots.AxesSubplot object at 0x7f1e26f1b910>],\n",
              "      dtype=object)"
            ]
          },
          "metadata": {},
          "execution_count": 205
        },
        {
          "output_type": "display_data",
          "data": {
            "text/plain": [
              "<Figure size 360x360 with 1 Axes>"
            ],
            "image/png": "[encoded data removed]"
          },
          "metadata": {}
        }
      ]
    },
    {
      "cell_type": "markdown",
      "source": [
        "## **Data Filters and Visualization**"
      ],
      "metadata": {
        "id": "CGIkhzC6TD-e"
      }
    },
    {
      "cell_type": "markdown",
      "source": [
        "Get and display all rows that are either GE, PE or ASF subjects.\n",
        "- using the .str to make the column 'class_code' into string and .contains() to get the specific subjects"
      ],
      "metadata": {
        "id": "MtGUQfvHTdWY"
      }
    },
    {
      "cell_type": "code",
      "source": [
        "dataset[dataset['class_code'].str.contains('GE|PE|ASF')]"
      ],
      "metadata": {
        "id": "0DtHWq0gTcV8",
        "colab": {
          "base_uri": "https://localhost:8080/",
          "height": 614
        },
        "outputId": "5dd71151-70b7-4f89-c4b8-f2096313d9db"
      },
      "execution_count": null,
      "outputs": [
        {
          "output_type": "execute_result",
          "data": {
            "text/plain": [
              "   class_code  subj_no                                          subj_desc  \\\n",
              "0    ASF 1101  16-5100                          ARRUPE SOCIAL FORMATION 1   \n",
              "1    ASF 1102  16-6002  NATIONAL SERVICE TRAINING PROGRAM - CIVIC WELF...   \n",
              "4     GE 1105   16-160                             UNDERSTANDING THE SELF   \n",
              "5     GE 1106   16-502                            PURPOSIVE COMMUNICATION   \n",
              "6     GE 1108   16-216                    MATHEMATICS IN THE MODERN WORLD   \n",
              "7     PE 1114   16-336                                         PATH-FIT I   \n",
              "8    ASF 1203  16-6002  NATIONAL SERVICE TRAINING PROGRAM - CIVIC WELF...   \n",
              "11    GE 1210   16-641                     READINGS IN PHILIPPINE HISTORY   \n",
              "12    GE 1211   16-656                             THE CONTEMPORARY WORLD   \n",
              "13    GE 1212   16-689                    SCIENCE, TECHNOLOGY AND SOCIETY   \n",
              "15    PE 1215   16-870                                        PATH-FIT II   \n",
              "18    GE 1107   16-208                                   ART APPRECIATION   \n",
              "19    GE 1109   16-530                                             ETHICS   \n",
              "20    GE 3118   16-681                  ELECTIVE 1: VIRTUAL COMMUNICATION   \n",
              "23    PE 2116   16-620                           PATH-FIT III: VOLLEYBALL   \n",
              "29    GE 1213   16-033                            LIFE AND WORKS OF RIZAL   \n",
              "30    GE 3219   16-037                 ELECTIVE 2: PHILIPPINE POP CULTURE   \n",
              "32    PE 2217   16-827                             PATH-FIT IV: BADMINTON   \n",
              "\n",
              "    units final   qpi      year_sem  \n",
              "0     2.0     A  3.91  1styr_1stsem  \n",
              "1     3.0    B+  3.91  1styr_1stsem  \n",
              "4     3.0     A  3.91  1styr_1stsem  \n",
              "5     3.0     A  3.91  1styr_1stsem  \n",
              "6     3.0    B+  3.91  1styr_1stsem  \n",
              "7     2.0     A  3.91  1styr_1stsem  \n",
              "8     3.0    B+  3.68  1styr_2ndsem  \n",
              "11    3.0    B+  3.68  1styr_2ndsem  \n",
              "12    3.0     A  3.68  1styr_2ndsem  \n",
              "13    3.0     A  3.68  1styr_2ndsem  \n",
              "15    2.0     A  3.68  1styr_2ndsem  \n",
              "18    3.0     A  3.70  2ndyr_1stsem  \n",
              "19    3.0     A  3.70  2ndyr_1stsem  \n",
              "20    3.0     A  3.70  2ndyr_1stsem  \n",
              "23    2.0     A  3.70  2ndyr_1stsem  \n",
              "29    3.0     A  3.84  2ndyr_2ndsem  \n",
              "30    3.0     A  3.84  2ndyr_2ndsem  \n",
              "32    2.0     A  3.84  2ndyr_2ndsem  "
            ],
            "text/html": [
              "\n",
              "  <div id=\"df-7460e904-dc89-4bd4-aa31-f6b7db9454c8\">\n",
              "    <div class=\"colab-df-container\">\n",
              "      <div>\n",
              "<style scoped>\n",
              "    .dataframe tbody tr th:only-of-type {\n",
              "        vertical-align: middle;\n",
              "    }\n",
              "\n",
              "    .dataframe tbody tr th {\n",
              "        vertical-align: top;\n",
              "    }\n",
              "\n",
              "    .dataframe thead th {\n",
              "        text-align: right;\n",
              "    }\n",
              "</style>\n",
              "<table border=\"1\" class=\"dataframe\">\n",
              "  <thead>\n",
              "    <tr style=\"text-align: right;\">\n",
              "      <th></th>\n",
              "      <th>class_code</th>\n",
              "      <th>subj_no</th>\n",
              "      <th>subj_desc</th>\n",
              "      <th>units</th>\n",
              "      <th>final</th>\n",
              "      <th>qpi</th>\n",
              "      <th>year_sem</th>\n",
              "    </tr>\n",
              "  </thead>\n",
              "  <tbody>\n",
              "    <tr>\n",
              "      <th>0</th>\n",
              "      <td>ASF 1101</td>\n",
              "      <td>16-5100</td>\n",
              "      <td>ARRUPE SOCIAL FORMATION 1</td>\n",
              "      <td>2.0</td>\n",
              "      <td>A</td>\n",
              "      <td>3.91</td>\n",
              "      <td>1styr_1stsem</td>\n",
              "    </tr>\n",
              "    <tr>\n",
              "      <th>1</th>\n",
              "      <td>ASF 1102</td>\n",
              "      <td>16-6002</td>\n",
              "      <td>NATIONAL SERVICE TRAINING PROGRAM - CIVIC WELF...</td>\n",
              "      <td>3.0</td>\n",
              "      <td>B+</td>\n",
              "      <td>3.91</td>\n",
              "      <td>1styr_1stsem</td>\n",
              "    </tr>\n",
              "    <tr>\n",
              "      <th>4</th>\n",
              "      <td>GE 1105</td>\n",
              "      <td>16-160</td>\n",
              "      <td>UNDERSTANDING THE SELF</td>\n",
              "      <td>3.0</td>\n",
              "      <td>A</td>\n",
              "      <td>3.91</td>\n",
              "      <td>1styr_1stsem</td>\n",
              "    </tr>\n",
              "    <tr>\n",
              "      <th>5</th>\n",
              "      <td>GE 1106</td>\n",
              "      <td>16-502</td>\n",
              "      <td>PURPOSIVE COMMUNICATION</td>\n",
              "      <td>3.0</td>\n",
              "      <td>A</td>\n",
              "      <td>3.91</td>\n",
              "      <td>1styr_1stsem</td>\n",
              "    </tr>\n",
              "    <tr>\n",
              "      <th>6</th>\n",
              "      <td>GE 1108</td>\n",
              "      <td>16-216</td>\n",
              "      <td>MATHEMATICS IN THE MODERN WORLD</td>\n",
              "      <td>3.0</td>\n",
              "      <td>B+</td>\n",
              "      <td>3.91</td>\n",
              "      <td>1styr_1stsem</td>\n",
              "    </tr>\n",
              "    <tr>\n",
              "      <th>7</th>\n",
              "      <td>PE 1114</td>\n",
              "      <td>16-336</td>\n",
              "      <td>PATH-FIT I</td>\n",
              "      <td>2.0</td>\n",
              "      <td>A</td>\n",
              "      <td>3.91</td>\n",
              "      <td>1styr_1stsem</td>\n",
              "    </tr>\n",
              "    <tr>\n",
              "      <th>8</th>\n",
              "      <td>ASF 1203</td>\n",
              "      <td>16-6002</td>\n",
              "      <td>NATIONAL SERVICE TRAINING PROGRAM - CIVIC WELF...</td>\n",
              "      <td>3.0</td>\n",
              "      <td>B+</td>\n",
              "      <td>3.68</td>\n",
              "      <td>1styr_2ndsem</td>\n",
              "    </tr>\n",
              "    <tr>\n",
              "      <th>11</th>\n",
              "      <td>GE 1210</td>\n",
              "      <td>16-641</td>\n",
              "      <td>READINGS IN PHILIPPINE HISTORY</td>\n",
              "      <td>3.0</td>\n",
              "      <td>B+</td>\n",
              "      <td>3.68</td>\n",
              "      <td>1styr_2ndsem</td>\n",
              "    </tr>\n",
              "    <tr>\n",
              "      <th>12</th>\n",
              "      <td>GE 1211</td>\n",
              "      <td>16-656</td>\n",
              "      <td>THE CONTEMPORARY WORLD</td>\n",
              "      <td>3.0</td>\n",
              "      <td>A</td>\n",
              "      <td>3.68</td>\n",
              "      <td>1styr_2ndsem</td>\n",
              "    </tr>\n",
              "    <tr>\n",
              "      <th>13</th>\n",
              "      <td>GE 1212</td>\n",
              "      <td>16-689</td>\n",
              "      <td>SCIENCE, TECHNOLOGY AND SOCIETY</td>\n",
              "      <td>3.0</td>\n",
              "      <td>A</td>\n",
              "      <td>3.68</td>\n",
              "      <td>1styr_2ndsem</td>\n",
              "    </tr>\n",
              "    <tr>\n",
              "      <th>15</th>\n",
              "      <td>PE 1215</td>\n",
              "      <td>16-870</td>\n",
              "      <td>PATH-FIT II</td>\n",
              "      <td>2.0</td>\n",
              "      <td>A</td>\n",
              "      <td>3.68</td>\n",
              "      <td>1styr_2ndsem</td>\n",
              "    </tr>\n",
              "    <tr>\n",
              "      <th>18</th>\n",
              "      <td>GE 1107</td>\n",
              "      <td>16-208</td>\n",
              "      <td>ART APPRECIATION</td>\n",
              "      <td>3.0</td>\n",
              "      <td>A</td>\n",
              "      <td>3.70</td>\n",
              "      <td>2ndyr_1stsem</td>\n",
              "    </tr>\n",
              "    <tr>\n",
              "      <th>19</th>\n",
              "      <td>GE 1109</td>\n",
              "      <td>16-530</td>\n",
              "      <td>ETHICS</td>\n",
              "      <td>3.0</td>\n",
              "      <td>A</td>\n",
              "      <td>3.70</td>\n",
              "      <td>2ndyr_1stsem</td>\n",
              "    </tr>\n",
              "    <tr>\n",
              "      <th>20</th>\n",
              "      <td>GE 3118</td>\n",
              "      <td>16-681</td>\n",
              "      <td>ELECTIVE 1: VIRTUAL COMMUNICATION</td>\n",
              "      <td>3.0</td>\n",
              "      <td>A</td>\n",
              "      <td>3.70</td>\n",
              "      <td>2ndyr_1stsem</td>\n",
              "    </tr>\n",
              "    <tr>\n",
              "      <th>23</th>\n",
              "      <td>PE 2116</td>\n",
              "      <td>16-620</td>\n",
              "      <td>PATH-FIT III: VOLLEYBALL</td>\n",
              "      <td>2.0</td>\n",
              "      <td>A</td>\n",
              "      <td>3.70</td>\n",
              "      <td>2ndyr_1stsem</td>\n",
              "    </tr>\n",
              "    <tr>\n",
              "      <th>29</th>\n",
              "      <td>GE 1213</td>\n",
              "      <td>16-033</td>\n",
              "      <td>LIFE AND WORKS OF RIZAL</td>\n",
              "      <td>3.0</td>\n",
              "      <td>A</td>\n",
              "      <td>3.84</td>\n",
              "      <td>2ndyr_2ndsem</td>\n",
              "    </tr>\n",
              "    <tr>\n",
              "      <th>30</th>\n",
              "      <td>GE 3219</td>\n",
              "      <td>16-037</td>\n",
              "      <td>ELECTIVE 2: PHILIPPINE POP CULTURE</td>\n",
              "      <td>3.0</td>\n",
              "      <td>A</td>\n",
              "      <td>3.84</td>\n",
              "      <td>2ndyr_2ndsem</td>\n",
              "    </tr>\n",
              "    <tr>\n",
              "      <th>32</th>\n",
              "      <td>PE 2217</td>\n",
              "      <td>16-827</td>\n",
              "      <td>PATH-FIT IV: BADMINTON</td>\n",
              "      <td>2.0</td>\n",
              "      <td>A</td>\n",
              "      <td>3.84</td>\n",
              "      <td>2ndyr_2ndsem</td>\n",
              "    </tr>\n",
              "  </tbody>\n",
              "</table>\n",
              "</div>\n",
              "      <button class=\"colab-df-convert\" onclick=\"convertToInteractive('df-7460e904-dc89-4bd4-aa31-f6b7db9454c8')\"\n",
              "              title=\"Convert this dataframe to an interactive table.\"\n",
              "              style=\"display:none;\">\n",
              "        \n",
              "  <svg xmlns=\"http://www.w3.org/2000/svg\" height=\"24px\"viewBox=\"0 0 24 24\"\n",
              "       width=\"24px\">\n",
              "    <path d=\"M0 0h24v24H0V0z\" fill=\"none\"/>\n",
              "    <path d=\"M18.56 5.44l.94 2.06.94-2.06 2.06-.94-2.06-.94-.94-2.06-.94 2.06-2.06.94zm-11 1L8.5 8.5l.94-2.06 2.06-.94-2.06-.94L8.5 2.5l-.94 2.06-2.06.94zm10 10l.94 2.06.94-2.06 2.06-.94-2.06-.94-.94-2.06-.94 2.06-2.06.94z\"/><path d=\"M17.41 7.96l-1.37-1.37c-.4-.4-.92-.59-1.43-.59-.52 0-1.04.2-1.43.59L10.3 9.45l-7.72 7.72c-.78.78-.78 2.05 0 2.83L4 21.41c.39.39.9.59 1.41.59.51 0 1.02-.2 1.41-.59l7.78-7.78 2.81-2.81c.8-.78.8-2.07 0-2.86zM5.41 20L4 18.59l7.72-7.72 1.47 1.35L5.41 20z\"/>\n",
              "  </svg>\n",
              "      </button>\n",
              "      \n",
              "  <style>\n",
              "    .colab-df-container {\n",
              "      display:flex;\n",
              "      flex-wrap:wrap;\n",
              "      gap: 12px;\n",
              "    }\n",
              "\n",
              "    .colab-df-convert {\n",
              "      background-color: #E8F0FE;\n",
              "      border: none;\n",
              "      border-radius: 50%;\n",
              "      cursor: pointer;\n",
              "      display: none;\n",
              "      fill: #1967D2;\n",
              "      height: 32px;\n",
              "      padding: 0 0 0 0;\n",
              "      width: 32px;\n",
              "    }\n",
              "\n",
              "    .colab-df-convert:hover {\n",
              "      background-color: #E2EBFA;\n",
              "      box-shadow: 0px 1px 2px rgba(60, 64, 67, 0.3), 0px 1px 3px 1px rgba(60, 64, 67, 0.15);\n",
              "      fill: #174EA6;\n",
              "    }\n",
              "\n",
              "    [theme=dark] .colab-df-convert {\n",
              "      background-color: #3B4455;\n",
              "      fill: #D2E3FC;\n",
              "    }\n",
              "\n",
              "    [theme=dark] .colab-df-convert:hover {\n",
              "      background-color: #434B5C;\n",
              "      box-shadow: 0px 1px 3px 1px rgba(0, 0, 0, 0.15);\n",
              "      filter: drop-shadow(0px 1px 2px rgba(0, 0, 0, 0.3));\n",
              "      fill: #FFFFFF;\n",
              "    }\n",
              "  </style>\n",
              "\n",
              "      <script>\n",
              "        const buttonEl =\n",
              "          document.querySelector('#df-7460e904-dc89-4bd4-aa31-f6b7db9454c8 button.colab-df-convert');\n",
              "        buttonEl.style.display =\n",
              "          google.colab.kernel.accessAllowed ? 'block' : 'none';\n",
              "\n",
              "        async function convertToInteractive(key) {\n",
              "          const element = document.querySelector('#df-7460e904-dc89-4bd4-aa31-f6b7db9454c8');\n",
              "          const dataTable =\n",
              "            await google.colab.kernel.invokeFunction('convertToInteractive',\n",
              "                                                     [key], {});\n",
              "          if (!dataTable) return;\n",
              "\n",
              "          const docLinkHtml = 'Like what you see? Visit the ' +\n",
              "            '<a target=\"_blank\" href=https://colab.research.google.com/notebooks/data_table.ipynb>data table notebook</a>'\n",
              "            + ' to learn more about interactive tables.';\n",
              "          element.innerHTML = '';\n",
              "          dataTable['output_type'] = 'display_data';\n",
              "          await google.colab.output.renderOutput(dataTable, element);\n",
              "          const docLink = document.createElement('div');\n",
              "          docLink.innerHTML = docLinkHtml;\n",
              "          element.appendChild(docLink);\n",
              "        }\n",
              "      </script>\n",
              "    </div>\n",
              "  </div>\n",
              "  "
            ]
          },
          "metadata": {},
          "execution_count": 147
        }
      ]
    },
    {
      "cell_type": "markdown",
      "source": [
        "Get and display the total value count of GE subjects.\n",
        "- turning the 'class_code' column into string and using the .contains() to get the specific value/element, then using .value_counts() to count the values of the specific subjects"
      ],
      "metadata": {
        "id": "3r2fjIF4Tein"
      }
    },
    {
      "cell_type": "code",
      "source": [
        "dataset[dataset['class_code'].str.contains('GE')].value_counts()"
      ],
      "metadata": {
        "id": "hkK97nFPThHm",
        "colab": {
          "base_uri": "https://localhost:8080/"
        },
        "outputId": "e2c06328-34e7-4ea8-f716-100b3a81a2e2"
      },
      "execution_count": null,
      "outputs": [
        {
          "output_type": "execute_result",
          "data": {
            "text/plain": [
              "class_code  subj_no  subj_desc                           units  final  qpi   year_sem    \n",
              "GE 1105     16-160   UNDERSTANDING THE SELF              3.0    A      3.91  1styr_1stsem    1\n",
              "GE 1106     16-502   PURPOSIVE COMMUNICATION             3.0    A      3.91  1styr_1stsem    1\n",
              "GE 1107     16-208   ART APPRECIATION                    3.0    A      3.70  2ndyr_1stsem    1\n",
              "GE 1108     16-216   MATHEMATICS IN THE MODERN WORLD     3.0    B+     3.91  1styr_1stsem    1\n",
              "GE 1109     16-530   ETHICS                              3.0    A      3.70  2ndyr_1stsem    1\n",
              "GE 1210     16-641   READINGS IN PHILIPPINE HISTORY      3.0    B+     3.68  1styr_2ndsem    1\n",
              "GE 1211     16-656   THE CONTEMPORARY WORLD              3.0    A      3.68  1styr_2ndsem    1\n",
              "GE 1212     16-689   SCIENCE, TECHNOLOGY AND SOCIETY     3.0    A      3.68  1styr_2ndsem    1\n",
              "GE 1213     16-033   LIFE AND WORKS OF RIZAL             3.0    A      3.84  2ndyr_2ndsem    1\n",
              "GE 3118     16-681   ELECTIVE 1: VIRTUAL COMMUNICATION   3.0    A      3.70  2ndyr_1stsem    1\n",
              "GE 3219     16-037   ELECTIVE 2: PHILIPPINE POP CULTURE  3.0    A      3.84  2ndyr_2ndsem    1\n",
              "dtype: int64"
            ]
          },
          "metadata": {},
          "execution_count": 22
        }
      ]
    },
    {
      "cell_type": "markdown",
      "source": [
        "Get and display all rows that are either DSC, CS, or Math subjects.\n",
        "- using the .str to make the column 'class_code' into string and .contains() to get the specific subjects"
      ],
      "metadata": {
        "id": "svCH7_aHTieY"
      }
    },
    {
      "cell_type": "code",
      "source": [
        "dataset[dataset['class_code'].str.contains('DSC|CS|MATH')]"
      ],
      "metadata": {
        "id": "i0663TDLTi2i",
        "colab": {
          "base_uri": "https://localhost:8080/",
          "height": 519
        },
        "outputId": "8f14524a-7437-4363-bfea-b0512f0b0bf0"
      },
      "execution_count": null,
      "outputs": [
        {
          "output_type": "execute_result",
          "data": {
            "text/plain": [
              "   class_code subj_no                             subj_desc  units final  \\\n",
              "2    DSC 1130   4-301             INTRODUCTION TO COMPUTING    3.0     A   \n",
              "3    DSC 1131   4-501                COMPUTER PROGRAMMING 1    3.0     A   \n",
              "9    DSC 1232   4-501                 DISCRETE STRUCTURES 1    3.0     B   \n",
              "10   DSC 1233   4-502                COMPUTER PROGRAMMING 2    3.0     A   \n",
              "14  MATH 2171   4-503                 DIFFERENTIAL CALCULUS    5.0    B+   \n",
              "16   DSC 2134   4-502  INFORMATION MANAGEMENT AND DATABASES    3.0     A   \n",
              "17   DSC 2135   4-503           OBJECT ORIENTED PROGRAMMING    3.0     A   \n",
              "21  MATH 2138   4-504                        LINEAR ALGEBRA    3.0     A   \n",
              "22  MATH 2272   4-505                     INTEGRAL CALCULUS    5.0    C+   \n",
              "24   DSC 2236   4-501                         LINEAR MODELS    3.0     A   \n",
              "25   DSC 2237   4-505                 BUSINESS INTELLIGENCE    3.0    B+   \n",
              "26   DSC 2238   4-506             DATA SCIENCE FUNDAMENTALS    3.0     B   \n",
              "27   DSC 2239   4-507        DATA STRUCTURES AND ALGORITHMS    3.0     A   \n",
              "28   DSC 2240   4-504                 PHYSICS FOR COMPUTING    5.0     A   \n",
              "31  MATH 3274   4-508            PROBABILITY AND STATISTICS    3.0     A   \n",
              "\n",
              "     qpi      year_sem  \n",
              "2   3.91  1styr_1stsem  \n",
              "3   3.91  1styr_1stsem  \n",
              "9   3.68  1styr_2ndsem  \n",
              "10  3.68  1styr_2ndsem  \n",
              "14  3.68  1styr_2ndsem  \n",
              "16  3.70  2ndyr_1stsem  \n",
              "17  3.70  2ndyr_1stsem  \n",
              "21  3.70  2ndyr_1stsem  \n",
              "22  3.70  2ndyr_1stsem  \n",
              "24  3.84  2ndyr_2ndsem  \n",
              "25  3.84  2ndyr_2ndsem  \n",
              "26  3.84  2ndyr_2ndsem  \n",
              "27  3.84  2ndyr_2ndsem  \n",
              "28  3.84  2ndyr_2ndsem  \n",
              "31  3.84  2ndyr_2ndsem  "
            ],
            "text/html": [
              "\n",
              "  <div id=\"df-359c47e2-73e4-4fc3-8c23-09dfeb6e389c\">\n",
              "    <div class=\"colab-df-container\">\n",
              "      <div>\n",
              "<style scoped>\n",
              "    .dataframe tbody tr th:only-of-type {\n",
              "        vertical-align: middle;\n",
              "    }\n",
              "\n",
              "    .dataframe tbody tr th {\n",
              "        vertical-align: top;\n",
              "    }\n",
              "\n",
              "    .dataframe thead th {\n",
              "        text-align: right;\n",
              "    }\n",
              "</style>\n",
              "<table border=\"1\" class=\"dataframe\">\n",
              "  <thead>\n",
              "    <tr style=\"text-align: right;\">\n",
              "      <th></th>\n",
              "      <th>class_code</th>\n",
              "      <th>subj_no</th>\n",
              "      <th>subj_desc</th>\n",
              "      <th>units</th>\n",
              "      <th>final</th>\n",
              "      <th>qpi</th>\n",
              "      <th>year_sem</th>\n",
              "    </tr>\n",
              "  </thead>\n",
              "  <tbody>\n",
              "    <tr>\n",
              "      <th>2</th>\n",
              "      <td>DSC 1130</td>\n",
              "      <td>4-301</td>\n",
              "      <td>INTRODUCTION TO COMPUTING</td>\n",
              "      <td>3.0</td>\n",
              "      <td>A</td>\n",
              "      <td>3.91</td>\n",
              "      <td>1styr_1stsem</td>\n",
              "    </tr>\n",
              "    <tr>\n",
              "      <th>3</th>\n",
              "      <td>DSC 1131</td>\n",
              "      <td>4-501</td>\n",
              "      <td>COMPUTER PROGRAMMING 1</td>\n",
              "      <td>3.0</td>\n",
              "      <td>A</td>\n",
              "      <td>3.91</td>\n",
              "      <td>1styr_1stsem</td>\n",
              "    </tr>\n",
              "    <tr>\n",
              "      <th>9</th>\n",
              "      <td>DSC 1232</td>\n",
              "      <td>4-501</td>\n",
              "      <td>DISCRETE STRUCTURES 1</td>\n",
              "      <td>3.0</td>\n",
              "      <td>B</td>\n",
              "      <td>3.68</td>\n",
              "      <td>1styr_2ndsem</td>\n",
              "    </tr>\n",
              "    <tr>\n",
              "      <th>10</th>\n",
              "      <td>DSC 1233</td>\n",
              "      <td>4-502</td>\n",
              "      <td>COMPUTER PROGRAMMING 2</td>\n",
              "      <td>3.0</td>\n",
              "      <td>A</td>\n",
              "      <td>3.68</td>\n",
              "      <td>1styr_2ndsem</td>\n",
              "    </tr>\n",
              "    <tr>\n",
              "      <th>14</th>\n",
              "      <td>MATH 2171</td>\n",
              "      <td>4-503</td>\n",
              "      <td>DIFFERENTIAL CALCULUS</td>\n",
              "      <td>5.0</td>\n",
              "      <td>B+</td>\n",
              "      <td>3.68</td>\n",
              "      <td>1styr_2ndsem</td>\n",
              "    </tr>\n",
              "    <tr>\n",
              "      <th>16</th>\n",
              "      <td>DSC 2134</td>\n",
              "      <td>4-502</td>\n",
              "      <td>INFORMATION MANAGEMENT AND DATABASES</td>\n",
              "      <td>3.0</td>\n",
              "      <td>A</td>\n",
              "      <td>3.70</td>\n",
              "      <td>2ndyr_1stsem</td>\n",
              "    </tr>\n",
              "    <tr>\n",
              "      <th>17</th>\n",
              "      <td>DSC 2135</td>\n",
              "      <td>4-503</td>\n",
              "      <td>OBJECT ORIENTED PROGRAMMING</td>\n",
              "      <td>3.0</td>\n",
              "      <td>A</td>\n",
              "      <td>3.70</td>\n",
              "      <td>2ndyr_1stsem</td>\n",
              "    </tr>\n",
              "    <tr>\n",
              "      <th>21</th>\n",
              "      <td>MATH 2138</td>\n",
              "      <td>4-504</td>\n",
              "      <td>LINEAR ALGEBRA</td>\n",
              "      <td>3.0</td>\n",
              "      <td>A</td>\n",
              "      <td>3.70</td>\n",
              "      <td>2ndyr_1stsem</td>\n",
              "    </tr>\n",
              "    <tr>\n",
              "      <th>22</th>\n",
              "      <td>MATH 2272</td>\n",
              "      <td>4-505</td>\n",
              "      <td>INTEGRAL CALCULUS</td>\n",
              "      <td>5.0</td>\n",
              "      <td>C+</td>\n",
              "      <td>3.70</td>\n",
              "      <td>2ndyr_1stsem</td>\n",
              "    </tr>\n",
              "    <tr>\n",
              "      <th>24</th>\n",
              "      <td>DSC 2236</td>\n",
              "      <td>4-501</td>\n",
              "      <td>LINEAR MODELS</td>\n",
              "      <td>3.0</td>\n",
              "      <td>A</td>\n",
              "      <td>3.84</td>\n",
              "      <td>2ndyr_2ndsem</td>\n",
              "    </tr>\n",
              "    <tr>\n",
              "      <th>25</th>\n",
              "      <td>DSC 2237</td>\n",
              "      <td>4-505</td>\n",
              "      <td>BUSINESS INTELLIGENCE</td>\n",
              "      <td>3.0</td>\n",
              "      <td>B+</td>\n",
              "      <td>3.84</td>\n",
              "      <td>2ndyr_2ndsem</td>\n",
              "    </tr>\n",
              "    <tr>\n",
              "      <th>26</th>\n",
              "      <td>DSC 2238</td>\n",
              "      <td>4-506</td>\n",
              "      <td>DATA SCIENCE FUNDAMENTALS</td>\n",
              "      <td>3.0</td>\n",
              "      <td>B</td>\n",
              "      <td>3.84</td>\n",
              "      <td>2ndyr_2ndsem</td>\n",
              "    </tr>\n",
              "    <tr>\n",
              "      <th>27</th>\n",
              "      <td>DSC 2239</td>\n",
              "      <td>4-507</td>\n",
              "      <td>DATA STRUCTURES AND ALGORITHMS</td>\n",
              "      <td>3.0</td>\n",
              "      <td>A</td>\n",
              "      <td>3.84</td>\n",
              "      <td>2ndyr_2ndsem</td>\n",
              "    </tr>\n",
              "    <tr>\n",
              "      <th>28</th>\n",
              "      <td>DSC 2240</td>\n",
              "      <td>4-504</td>\n",
              "      <td>PHYSICS FOR COMPUTING</td>\n",
              "      <td>5.0</td>\n",
              "      <td>A</td>\n",
              "      <td>3.84</td>\n",
              "      <td>2ndyr_2ndsem</td>\n",
              "    </tr>\n",
              "    <tr>\n",
              "      <th>31</th>\n",
              "      <td>MATH 3274</td>\n",
              "      <td>4-508</td>\n",
              "      <td>PROBABILITY AND STATISTICS</td>\n",
              "      <td>3.0</td>\n",
              "      <td>A</td>\n",
              "      <td>3.84</td>\n",
              "      <td>2ndyr_2ndsem</td>\n",
              "    </tr>\n",
              "  </tbody>\n",
              "</table>\n",
              "</div>\n",
              "      <button class=\"colab-df-convert\" onclick=\"convertToInteractive('df-359c47e2-73e4-4fc3-8c23-09dfeb6e389c')\"\n",
              "              title=\"Convert this dataframe to an interactive table.\"\n",
              "              style=\"display:none;\">\n",
              "        \n",
              "  <svg xmlns=\"http://www.w3.org/2000/svg\" height=\"24px\"viewBox=\"0 0 24 24\"\n",
              "       width=\"24px\">\n",
              "    <path d=\"M0 0h24v24H0V0z\" fill=\"none\"/>\n",
              "    <path d=\"M18.56 5.44l.94 2.06.94-2.06 2.06-.94-2.06-.94-.94-2.06-.94 2.06-2.06.94zm-11 1L8.5 8.5l.94-2.06 2.06-.94-2.06-.94L8.5 2.5l-.94 2.06-2.06.94zm10 10l.94 2.06.94-2.06 2.06-.94-2.06-.94-.94-2.06-.94 2.06-2.06.94z\"/><path d=\"M17.41 7.96l-1.37-1.37c-.4-.4-.92-.59-1.43-.59-.52 0-1.04.2-1.43.59L10.3 9.45l-7.72 7.72c-.78.78-.78 2.05 0 2.83L4 21.41c.39.39.9.59 1.41.59.51 0 1.02-.2 1.41-.59l7.78-7.78 2.81-2.81c.8-.78.8-2.07 0-2.86zM5.41 20L4 18.59l7.72-7.72 1.47 1.35L5.41 20z\"/>\n",
              "  </svg>\n",
              "      </button>\n",
              "      \n",
              "  <style>\n",
              "    .colab-df-container {\n",
              "      display:flex;\n",
              "      flex-wrap:wrap;\n",
              "      gap: 12px;\n",
              "    }\n",
              "\n",
              "    .colab-df-convert {\n",
              "      background-color: #E8F0FE;\n",
              "      border: none;\n",
              "      border-radius: 50%;\n",
              "      cursor: pointer;\n",
              "      display: none;\n",
              "      fill: #1967D2;\n",
              "      height: 32px;\n",
              "      padding: 0 0 0 0;\n",
              "      width: 32px;\n",
              "    }\n",
              "\n",
              "    .colab-df-convert:hover {\n",
              "      background-color: #E2EBFA;\n",
              "      box-shadow: 0px 1px 2px rgba(60, 64, 67, 0.3), 0px 1px 3px 1px rgba(60, 64, 67, 0.15);\n",
              "      fill: #174EA6;\n",
              "    }\n",
              "\n",
              "    [theme=dark] .colab-df-convert {\n",
              "      background-color: #3B4455;\n",
              "      fill: #D2E3FC;\n",
              "    }\n",
              "\n",
              "    [theme=dark] .colab-df-convert:hover {\n",
              "      background-color: #434B5C;\n",
              "      box-shadow: 0px 1px 3px 1px rgba(0, 0, 0, 0.15);\n",
              "      filter: drop-shadow(0px 1px 2px rgba(0, 0, 0, 0.3));\n",
              "      fill: #FFFFFF;\n",
              "    }\n",
              "  </style>\n",
              "\n",
              "      <script>\n",
              "        const buttonEl =\n",
              "          document.querySelector('#df-359c47e2-73e4-4fc3-8c23-09dfeb6e389c button.colab-df-convert');\n",
              "        buttonEl.style.display =\n",
              "          google.colab.kernel.accessAllowed ? 'block' : 'none';\n",
              "\n",
              "        async function convertToInteractive(key) {\n",
              "          const element = document.querySelector('#df-359c47e2-73e4-4fc3-8c23-09dfeb6e389c');\n",
              "          const dataTable =\n",
              "            await google.colab.kernel.invokeFunction('convertToInteractive',\n",
              "                                                     [key], {});\n",
              "          if (!dataTable) return;\n",
              "\n",
              "          const docLinkHtml = 'Like what you see? Visit the ' +\n",
              "            '<a target=\"_blank\" href=https://colab.research.google.com/notebooks/data_table.ipynb>data table notebook</a>'\n",
              "            + ' to learn more about interactive tables.';\n",
              "          element.innerHTML = '';\n",
              "          dataTable['output_type'] = 'display_data';\n",
              "          await google.colab.output.renderOutput(dataTable, element);\n",
              "          const docLink = document.createElement('div');\n",
              "          docLink.innerHTML = docLinkHtml;\n",
              "          element.appendChild(docLink);\n",
              "        }\n",
              "      </script>\n",
              "    </div>\n",
              "  </div>\n",
              "  "
            ]
          },
          "metadata": {},
          "execution_count": 19
        }
      ]
    },
    {
      "cell_type": "markdown",
      "source": [
        "Get and display the total value count of DSC subjects.\n",
        "- turning the 'class_code' column into string and using the .contains() to get the specific value/element, then using .value_counts() to count the values of the specific subjects"
      ],
      "metadata": {
        "id": "QFRXpL3lTkaS"
      }
    },
    {
      "cell_type": "code",
      "source": [
        "dataset[dataset['class_code'].str.contains('DSC')].value_counts()"
      ],
      "metadata": {
        "id": "ickirjtuTkt5",
        "colab": {
          "base_uri": "https://localhost:8080/"
        },
        "outputId": "1ad9a2a1-18a6-418f-d3b8-a5d5dfae7219"
      },
      "execution_count": null,
      "outputs": [
        {
          "output_type": "execute_result",
          "data": {
            "text/plain": [
              "class_code  subj_no  subj_desc                             units  final  qpi   year_sem    \n",
              "DSC 1130    4-301    INTRODUCTION TO COMPUTING             3.0    A      3.91  1styr_1stsem    1\n",
              "DSC 1131    4-501    COMPUTER PROGRAMMING 1                3.0    A      3.91  1styr_1stsem    1\n",
              "DSC 1232    4-501    DISCRETE STRUCTURES 1                 3.0    B      3.68  1styr_2ndsem    1\n",
              "DSC 1233    4-502    COMPUTER PROGRAMMING 2                3.0    A      3.68  1styr_2ndsem    1\n",
              "DSC 2134    4-502    INFORMATION MANAGEMENT AND DATABASES  3.0    A      3.70  2ndyr_1stsem    1\n",
              "DSC 2135    4-503    OBJECT ORIENTED PROGRAMMING           3.0    A      3.70  2ndyr_1stsem    1\n",
              "DSC 2236    4-501    LINEAR MODELS                         3.0    A      3.84  2ndyr_2ndsem    1\n",
              "DSC 2237    4-505    BUSINESS INTELLIGENCE                 3.0    B+     3.84  2ndyr_2ndsem    1\n",
              "DSC 2238    4-506    DATA SCIENCE FUNDAMENTALS             3.0    B      3.84  2ndyr_2ndsem    1\n",
              "DSC 2239    4-507    DATA STRUCTURES AND ALGORITHMS        3.0    A      3.84  2ndyr_2ndsem    1\n",
              "DSC 2240    4-504    PHYSICS FOR COMPUTING                 5.0    A      3.84  2ndyr_2ndsem    1\n",
              "dtype: int64"
            ]
          },
          "metadata": {},
          "execution_count": 55
        }
      ]
    },
    {
      "cell_type": "markdown",
      "source": [
        "### Bonus\n",
        "create a pie chart displaying the percentage of all letter grades within a semester\n",
        "- using the value_counts() to get the number of letter grades\n",
        "- df.plot.pie() to use the pie chart to display the percentage of the letter grades"
      ],
      "metadata": {
        "id": "J8cwdwGFBzak"
      }
    },
    {
      "cell_type": "code",
      "source": [
        "df = dataset[['final']]\n",
        "pied = df.value_counts()"
      ],
      "metadata": {
        "id": "wcz5JYysByYW"
      },
      "execution_count": null,
      "outputs": []
    },
    {
      "cell_type": "code",
      "source": [
        "pied.plot.pie(subplots=True, figsize = (10,10), fontsize=20, autopct='%.2f', ylabel = 'grade')"
      ],
      "metadata": {
        "colab": {
          "base_uri": "https://localhost:8080/",
          "height": 612
        },
        "id": "QwGWyrGHCHfy",
        "outputId": "ea4b4c2c-d9ae-42a4-b788-65b48d57cd1f"
      },
      "execution_count": null,
      "outputs": [
        {
          "output_type": "execute_result",
          "data": {
            "text/plain": [
              "array([<matplotlib.axes._subplots.AxesSubplot object at 0x7f1e26d04790>],\n",
              "      dtype=object)"
            ]
          },
          "metadata": {},
          "execution_count": 181
        },
        {
          "output_type": "display_data",
          "data": {
            "text/plain": [
              "<Figure size 720x720 with 1 Axes>"
            ],
            "image/png": "[encoded data removed]"
          },
          "metadata": {}
        }
      ]
    },
    {
      "cell_type": "code",
      "source": [
        "PFirst1.plot.pie(subplots=True, figsize = (5,5), fontsize=20, autopct='%.2f', ylabel = 'grade')"
      ],
      "metadata": {
        "colab": {
          "base_uri": "https://localhost:8080/",
          "height": 340
        },
        "id": "u8Uhr2vXXYa-",
        "outputId": "e111eeb9-5b1b-4986-b55a-6ca3fef992d8"
      },
      "execution_count": null,
      "outputs": [
        {
          "output_type": "execute_result",
          "data": {
            "text/plain": [
              "array([<matplotlib.axes._subplots.AxesSubplot object at 0x7f1e26eb4390>],\n",
              "      dtype=object)"
            ]
          },
          "metadata": {},
          "execution_count": 215
        },
        {
          "output_type": "display_data",
          "data": {
            "text/plain": [
              "<Figure size 360x360 with 1 Axes>"
            ],
            "image/png": "[encoded data removed]"
          },
          "metadata": {}
        }
      ]
    },
    {
      "cell_type": "code",
      "source": [
        "PFirst2.plot.pie(subplots=True, figsize = (5,5), fontsize=20, autopct='%.2f', ylabel = 'grade')"
      ],
      "metadata": {
        "colab": {
          "base_uri": "https://localhost:8080/",
          "height": 340
        },
        "id": "EA1XnFmJXekC",
        "outputId": "a7f94458-e330-478b-95d2-5fb54156bc0d"
      },
      "execution_count": null,
      "outputs": [
        {
          "output_type": "execute_result",
          "data": {
            "text/plain": [
              "array([<matplotlib.axes._subplots.AxesSubplot object at 0x7f1e26f4f290>],\n",
              "      dtype=object)"
            ]
          },
          "metadata": {},
          "execution_count": 216
        },
        {
          "output_type": "display_data",
          "data": {
            "text/plain": [
              "<Figure size 360x360 with 1 Axes>"
            ],
            "image/png": "[encoded data removed]"
          },
          "metadata": {}
        }
      ]
    },
    {
      "cell_type": "code",
      "source": [
        "PSecond1.plot.pie(subplots=True, figsize = (5,5), fontsize=20, autopct='%.2f', ylabel = 'grade')"
      ],
      "metadata": {
        "colab": {
          "base_uri": "https://localhost:8080/",
          "height": 340
        },
        "id": "b22qPJ23Xjmp",
        "outputId": "c2b848d0-bad4-48d7-ea74-00b288108e97"
      },
      "execution_count": null,
      "outputs": [
        {
          "output_type": "execute_result",
          "data": {
            "text/plain": [
              "array([<matplotlib.axes._subplots.AxesSubplot object at 0x7f1e26969490>],\n",
              "      dtype=object)"
            ]
          },
          "metadata": {},
          "execution_count": 217
        },
        {
          "output_type": "display_data",
          "data": {
            "text/plain": [
              "<Figure size 360x360 with 1 Axes>"
            ],
            "image/png": "[encoded data removed]"
          },
          "metadata": {}
        }
      ]
    },
    {
      "cell_type": "code",
      "source": [
        "PSecond2.plot.pie(subplots=True, figsize = (5,5), fontsize=20, autopct='%.2f', ylabel = 'grade')"
      ],
      "metadata": {
        "colab": {
          "base_uri": "https://localhost:8080/",
          "height": 340
        },
        "id": "nVMgk3kLXm9r",
        "outputId": "4cb76f82-930b-4ad5-b848-7bc5c17c6494"
      },
      "execution_count": null,
      "outputs": [
        {
          "output_type": "execute_result",
          "data": {
            "text/plain": [
              "array([<matplotlib.axes._subplots.AxesSubplot object at 0x7f1e26e97790>],\n",
              "      dtype=object)"
            ]
          },
          "metadata": {},
          "execution_count": 218
        },
        {
          "output_type": "display_data",
          "data": {
            "text/plain": [
              "<Figure size 360x360 with 1 Axes>"
            ],
            "image/png": "[encoded data removed]"
          },
          "metadata": {}
        }
      ]
    }
  ]
}